{
  "nbformat": 4,
  "nbformat_minor": 0,
  "metadata": {
    "colab": {
      "name": "Classification_with_Keras.ipynb",
      "provenance": [],
      "collapsed_sections": [],
      "include_colab_link": true
    },
    "kernelspec": {
      "name": "python3",
      "display_name": "Python 3"
    }
  },
  "cells": [
    {
      "cell_type": "markdown",
      "metadata": {
        "id": "view-in-github",
        "colab_type": "text"
      },
      "source": [
        "<a href=\"https://colab.research.google.com/github/Arjunmohan1/Fake_News_Detection/blob/main/Classification_with_Keras.ipynb\" target=\"_parent\"><img src=\"https://colab.research.google.com/assets/colab-badge.svg\" alt=\"Open In Colab\"/></a>"
      ]
    },
    {
      "cell_type": "code",
      "metadata": {
        "id": "2SzX8hNGKzV3",
        "colab": {
          "base_uri": "https://localhost:8080/",
          "height": 122
        },
        "outputId": "9c03716d-be02-4b24-c3db-319b2d7108f5"
      },
      "source": [
        "from google.colab import drive\n",
        "drive.mount('/content/drive')"
      ],
      "execution_count": null,
      "outputs": [
        {
          "output_type": "stream",
          "text": [
            "Go to this URL in a browser: https://accounts.google.com/o/oauth2/auth?client_id=947318989803-6bn6qk8qdgf4n4g3pfee6491hc0brc4i.apps.googleusercontent.com&redirect_uri=urn%3aietf%3awg%3aoauth%3a2.0%3aoob&response_type=code&scope=email%20https%3a%2f%2fwww.googleapis.com%2fauth%2fdocs.test%20https%3a%2f%2fwww.googleapis.com%2fauth%2fdrive%20https%3a%2f%2fwww.googleapis.com%2fauth%2fdrive.photos.readonly%20https%3a%2f%2fwww.googleapis.com%2fauth%2fpeopleapi.readonly\n",
            "\n",
            "Enter your authorization code:\n",
            "··········\n",
            "Mounted at /content/drive\n"
          ],
          "name": "stdout"
        }
      ]
    },
    {
      "cell_type": "code",
      "metadata": {
        "id": "mtN_aGxeLIQk",
        "colab": {
          "base_uri": "https://localhost:8080/",
          "height": 88
        },
        "outputId": "b45d265b-f303-49a2-b759-cf38c18b0924"
      },
      "source": [
        "import numpy as np\n",
        "import pandas as pd\n",
        "import seaborn as sns\n",
        "import matplotlib.pyplot as plt\n",
        "import nltk\n",
        "from sklearn.feature_extraction.text import CountVectorizer\n",
        "from sklearn.feature_extraction.text import TfidfVectorizer\n",
        "from sklearn.preprocessing import LabelBinarizer\n",
        "from nltk.corpus import stopwords\n",
        "from nltk.stem.porter import PorterStemmer\n",
        "from wordcloud import WordCloud,STOPWORDS\n",
        "from nltk.stem import WordNetLemmatizer\n",
        "from nltk.tokenize import word_tokenize,sent_tokenize\n",
        "from bs4 import BeautifulSoup\n",
        "import re,string,unicodedata\n",
        "from nltk.tokenize.toktok import ToktokTokenizer\n",
        "from nltk.stem import PorterStemmer,WordNetLemmatizer\n",
        "from sklearn.linear_model import LogisticRegression,SGDClassifier\n",
        "from sklearn.naive_bayes import MultinomialNB\n",
        "from sklearn.svm import SVC\n",
        "from sklearn.metrics import classification_report,confusion_matrix,accuracy_score\n",
        "from sklearn.model_selection import train_test_split\n",
        "from string import punctuation\n",
        "from nltk import pos_tag\n",
        "from nltk.corpus import wordnet\n",
        "import keras\n",
        "from keras.models import Sequential\n",
        "from keras.layers import Dense\n",
        "import tensorflow as tf"
      ],
      "execution_count": null,
      "outputs": [
        {
          "output_type": "stream",
          "text": [
            "/usr/local/lib/python3.6/dist-packages/statsmodels/tools/_testing.py:19: FutureWarning: pandas.util.testing is deprecated. Use the functions in the public API at pandas.testing instead.\n",
            "  import pandas.util.testing as tm\n",
            "Using TensorFlow backend.\n"
          ],
          "name": "stderr"
        }
      ]
    },
    {
      "cell_type": "code",
      "metadata": {
        "id": "ifgiSXe8LRnV"
      },
      "source": [
        "true = pd.read_csv('/content/drive/My Drive/Internship/Scrapped Data/realtweetsfinal.csv')\n",
        "false = pd.read_csv('/content/drive/My Drive/Internship/Scrapped Data/faketweetsfinal.csv')"
      ],
      "execution_count": null,
      "outputs": []
    },
    {
      "cell_type": "code",
      "metadata": {
        "id": "UegrpI_bLmtX"
      },
      "source": [
        "true['category'] = 1\n",
        "false['category'] = 0"
      ],
      "execution_count": null,
      "outputs": []
    },
    {
      "cell_type": "code",
      "metadata": {
        "id": "cpPKovj1Lt9C"
      },
      "source": [
        "df = pd.concat([true,false]) #Merging the 2 datasets"
      ],
      "execution_count": null,
      "outputs": []
    },
    {
      "cell_type": "code",
      "metadata": {
        "id": "CI47IsyuL1rX",
        "colab": {
          "base_uri": "https://localhost:8080/",
          "height": 187
        },
        "outputId": "ca081294-0bd8-4c64-e6ce-4bfe0ad830b2"
      },
      "source": [
        "df.isna().sum() # Checking for nan Values"
      ],
      "execution_count": null,
      "outputs": [
        {
          "output_type": "execute_result",
          "data": {
            "text/plain": [
              "date         0\n",
              "search       0\n",
              "username     0\n",
              "tweet        0\n",
              "nlikes       0\n",
              "nretweets    0\n",
              "nreplies     0\n",
              "class        0\n",
              "category     0\n",
              "dtype: int64"
            ]
          },
          "metadata": {
            "tags": []
          },
          "execution_count": 16
        }
      ]
    },
    {
      "cell_type": "code",
      "metadata": {
        "id": "XKj91w49L8kq",
        "colab": {
          "base_uri": "https://localhost:8080/",
          "height": 34
        },
        "outputId": "fb4ef841-9057-4342-8a8b-609e33a46856"
      },
      "source": [
        "df.tweet.count()"
      ],
      "execution_count": null,
      "outputs": [
        {
          "output_type": "execute_result",
          "data": {
            "text/plain": [
              "80628"
            ]
          },
          "metadata": {
            "tags": []
          },
          "execution_count": 17
        }
      ]
    },
    {
      "cell_type": "code",
      "metadata": {
        "id": "fEgil7fbMMi2"
      },
      "source": [
        "df['tweet'] = df['tweet'] + \" \" + df['search']\n",
        "del df['search']\n",
        "del df['date']"
      ],
      "execution_count": null,
      "outputs": []
    },
    {
      "cell_type": "code",
      "metadata": {
        "id": "qsJqNoPQMiZc",
        "colab": {
          "base_uri": "https://localhost:8080/",
          "height": 68
        },
        "outputId": "146e9d60-3243-47eb-dbef-fdedd0d1471b"
      },
      "source": [
        "import nltk\n",
        "nltk.download('stopwords')"
      ],
      "execution_count": null,
      "outputs": [
        {
          "output_type": "stream",
          "text": [
            "[nltk_data] Downloading package stopwords to /root/nltk_data...\n",
            "[nltk_data]   Unzipping corpora/stopwords.zip.\n"
          ],
          "name": "stdout"
        },
        {
          "output_type": "execute_result",
          "data": {
            "text/plain": [
              "True"
            ]
          },
          "metadata": {
            "tags": []
          },
          "execution_count": 11
        }
      ]
    },
    {
      "cell_type": "code",
      "metadata": {
        "id": "l7pwkDGCMbPz"
      },
      "source": [
        "stop = set(stopwords.words('english'))\n",
        "punctuation = list(string.punctuation)\n",
        "stop.update(punctuation)"
      ],
      "execution_count": null,
      "outputs": []
    },
    {
      "cell_type": "code",
      "metadata": {
        "id": "bwRyQMBJNFVc"
      },
      "source": [
        "stemmer = PorterStemmer()\n",
        "def stem_text(tweet):\n",
        "    final_text = []\n",
        "    for i in tweet.split():\n",
        "        if i.strip().lower() not in stop:\n",
        "            word = stemmer.stem(i.strip())\n",
        "            final_text.append(word)\n",
        "    return \" \".join(final_text)        "
      ],
      "execution_count": null,
      "outputs": []
    },
    {
      "cell_type": "code",
      "metadata": {
        "id": "92wWezYwNV5T"
      },
      "source": [
        "df.tweet = df.tweet.apply(stem_text)"
      ],
      "execution_count": null,
      "outputs": []
    },
    {
      "cell_type": "code",
      "metadata": {
        "id": "KrAb5QkVOqu9"
      },
      "source": [
        "plt.figure(figsize = (20,20))\n",
        "wc = WordCloud(max_words = 3000 , width = 1600 , height = 800 , stopwords = STOPWORDS).generate(\" \".join(df.tweet))\n",
        "plt.imshow(wc , interpolation = 'bilinear')"
      ],
      "execution_count": null,
      "outputs": []
    },
    {
      "cell_type": "code",
      "metadata": {
        "id": "lxf74lwjPbY5"
      },
      "source": [
        "x_train,x_test,y_train,y_test = train_test_split(df.tweet,df.category)"
      ],
      "execution_count": null,
      "outputs": []
    },
    {
      "cell_type": "code",
      "metadata": {
        "id": "fxNKvSu6PpaB",
        "colab": {
          "base_uri": "https://localhost:8080/",
          "height": 51
        },
        "outputId": "c9abe9c6-768c-4301-8270-57a6ce1d3f62"
      },
      "source": [
        "cv=CountVectorizer(min_df=0,max_df=1,ngram_range=(1,2))\n",
        "#transformed train reviews\n",
        "cv_train_reviews=cv.fit_transform(x_train)\n",
        "#transformed test reviews\n",
        "cv_test_reviews=cv.transform(x_test)\n",
        "\n",
        "print('BOW_cv_train:',cv_train_reviews.shape)\n",
        "print('BOW_cv_test:',cv_test_reviews.shape)"
      ],
      "execution_count": null,
      "outputs": [
        {
          "output_type": "stream",
          "text": [
            "BOW_cv_train: (60471, 130909)\n",
            "BOW_cv_test: (20157, 130909)\n"
          ],
          "name": "stdout"
        }
      ]
    },
    {
      "cell_type": "code",
      "metadata": {
        "id": "xBRWsq1hPx5_"
      },
      "source": [
        "model = Sequential()\n",
        "model.add(Dense(units = 100 , activation = 'relu' , input_dim = cv_train_reviews.shape[1]))\n",
        "model.add(Dense(units = 50 , activation = 'relu'))\n",
        "model.add(Dense(units = 25 , activation = 'relu'))\n",
        "model.add(Dense(units = 10 , activation = 'relu'))\n",
        "model.add(Dense(units = 1 , activation = 'sigmoid'))"
      ],
      "execution_count": null,
      "outputs": []
    },
    {
      "cell_type": "code",
      "metadata": {
        "id": "d2RV51NNP5ey"
      },
      "source": [
        "model.compile(optimizer = 'adam' , loss = 'binary_crossentropy' , metrics = ['accuracy'])"
      ],
      "execution_count": null,
      "outputs": []
    },
    {
      "cell_type": "code",
      "metadata": {
        "id": "Eixt9MxiP94-",
        "colab": {
          "base_uri": "https://localhost:8080/",
          "height": 204
        },
        "outputId": "92aaf2ac-c4f4-4d66-c8ec-08d166480848"
      },
      "source": [
        "model.fit(cv_train_reviews,y_train , epochs = 5)"
      ],
      "execution_count": null,
      "outputs": [
        {
          "output_type": "stream",
          "text": [
            "Epoch 1/5\n",
            "60471/60471 [==============================] - 347s 6ms/step - loss: 0.4977 - accuracy: 0.7725\n",
            "Epoch 2/5\n",
            "60471/60471 [==============================] - 341s 6ms/step - loss: 0.1881 - accuracy: 0.9421\n",
            "Epoch 3/5\n",
            "60471/60471 [==============================] - 338s 6ms/step - loss: 0.1830 - accuracy: 0.9424\n",
            "Epoch 4/5\n",
            "60471/60471 [==============================] - 335s 6ms/step - loss: 0.1829 - accuracy: 0.9424\n",
            "Epoch 5/5\n",
            "60471/60471 [==============================] - 334s 6ms/step - loss: 0.1827 - accuracy: 0.9424\n"
          ],
          "name": "stdout"
        },
        {
          "output_type": "execute_result",
          "data": {
            "text/plain": [
              "<keras.callbacks.callbacks.History at 0x7fb3e030b9b0>"
            ]
          },
          "metadata": {
            "tags": []
          },
          "execution_count": 27
        }
      ]
    },
    {
      "cell_type": "code",
      "metadata": {
        "id": "dHFVcrNBWpIz"
      },
      "source": [
        "pred = model.predict(cv_test_reviews)"
      ],
      "execution_count": null,
      "outputs": []
    },
    {
      "cell_type": "code",
      "metadata": {
        "id": "gD23_vVDW0HK"
      },
      "source": [
        "for i in range(len(pred)):\n",
        "    if(pred[i] > 0.5):\n",
        "        pred[i] = 1\n",
        "    else:\n",
        "        pred[i] = 0"
      ],
      "execution_count": null,
      "outputs": []
    },
    {
      "cell_type": "code",
      "metadata": {
        "id": "vHyXr-AOW4rD",
        "colab": {
          "base_uri": "https://localhost:8080/",
          "height": 34
        },
        "outputId": "68c4eed8-00ad-4611-d0c4-e10e78a22a59"
      },
      "source": [
        "accuracy_score(pred,y_test)"
      ],
      "execution_count": null,
      "outputs": [
        {
          "output_type": "execute_result",
          "data": {
            "text/plain": [
              "0.7445552413553604"
            ]
          },
          "metadata": {
            "tags": []
          },
          "execution_count": 30
        }
      ]
    },
    {
      "cell_type": "code",
      "metadata": {
        "id": "smex4pKuW8jV",
        "colab": {
          "base_uri": "https://localhost:8080/",
          "height": 170
        },
        "outputId": "4c203204-ab06-45de-9080-b9577af73ed9"
      },
      "source": [
        "cv_report = classification_report(y_test,pred,target_names = ['0','1'])\n",
        "print(cv_report)"
      ],
      "execution_count": null,
      "outputs": [
        {
          "output_type": "stream",
          "text": [
            "              precision    recall  f1-score   support\n",
            "\n",
            "           0       0.72      0.99      0.83     12858\n",
            "           1       0.97      0.30      0.46      7299\n",
            "\n",
            "    accuracy                           0.74     20157\n",
            "   macro avg       0.84      0.65      0.65     20157\n",
            "weighted avg       0.81      0.74      0.70     20157\n",
            "\n"
          ],
          "name": "stdout"
        }
      ]
    },
    {
      "cell_type": "code",
      "metadata": {
        "id": "HI9vOKOjXG2V",
        "colab": {
          "base_uri": "https://localhost:8080/",
          "height": 51
        },
        "outputId": "2c43951b-4b2c-4484-b3f7-c4f23a0e7a88"
      },
      "source": [
        "cm_cv = confusion_matrix(y_test,pred)\n",
        "cm_cv"
      ],
      "execution_count": null,
      "outputs": [
        {
          "output_type": "execute_result",
          "data": {
            "text/plain": [
              "array([[12785,    73],\n",
              "       [ 5076,  2223]])"
            ]
          },
          "metadata": {
            "tags": []
          },
          "execution_count": 32
        }
      ]
    },
    {
      "cell_type": "code",
      "metadata": {
        "id": "9DcZv3nuXLP7"
      },
      "source": [
        "cm_cv = pd.DataFrame(cm_cv, index=[0,1], columns=[0,1])\n",
        "cm_cv.index.name = 'Actual'\n",
        "cm_cv.columns.name = 'Predicted'"
      ],
      "execution_count": null,
      "outputs": []
    },
    {
      "cell_type": "code",
      "metadata": {
        "id": "52AU8l78XO-8",
        "colab": {
          "base_uri": "https://localhost:8080/",
          "height": 623
        },
        "outputId": "d31ca416-9829-4f63-84b4-86d57648fd42"
      },
      "source": [
        "plt.figure(figsize = (10,10))\n",
        "sns.heatmap(cm_cv,cmap= \"Blues\",annot = True, fmt='')"
      ],
      "execution_count": null,
      "outputs": [
        {
          "output_type": "execute_result",
          "data": {
            "text/plain": [
              "<matplotlib.axes._subplots.AxesSubplot at 0x7fb3c7f5af60>"
            ]
          },
          "metadata": {
            "tags": []
          },
          "execution_count": 34
        },
        {
          "output_type": "display_data",
          "data": {
            "image/png": "[encoded data removed]",
            "text/plain": [
              "<Figure size 720x720 with 2 Axes>"
            ]
          },
          "metadata": {
            "tags": [],
            "needs_background": "light"
          }
        }
      ]
    },
    {
      "cell_type": "code",
      "metadata": {
        "id": "aQlesvwLny3Z"
      },
      "source": [
        "fake_datewise_counts = false.groupby('date').date.agg([('count', 'count')]).reset_index().sort_values(by = \"count\", ascending = False)\n",
        "\n",
        "fake_datewise_counts = fake_datewise_counts.head(50)"
      ],
      "execution_count": null,
      "outputs": []
    },
    {
      "cell_type": "code",
      "metadata": {
        "id": "nWyTE0UBoD94",
        "colab": {
          "base_uri": "https://localhost:8080/",
          "height": 724
        },
        "outputId": "65ccb395-308f-4d48-a297-1c6e8e9c406b"
      },
      "source": [
        "plt.figure(figsize = (15,10))\n",
        "plt.xticks(rotation = 90)\n",
        "plt.bar(fake_datewise_counts[\"date\"], fake_datewise_counts[\"count\"], align = \"center\", color = \"orange\")\n",
        "plt.xlabel(\"Date.\", fontsize = 15)\n",
        "plt.ylabel(\"Count of fake news articles released.\", fontsize = 15)\n",
        "plt.title(\"Date-wise distribution of number of fake news articles released.\", fontsize = 15)\n",
        "plt.show()"
      ],
      "execution_count": null,
      "outputs": [
        {
          "output_type": "display_data",
          "data": {
            "image/png": "[encoded data removed]",
            "text/plain": [
              "<Figure size 1080x720 with 1 Axes>"
            ]
          },
          "metadata": {
            "tags": [],
            "needs_background": "light"
          }
        }
      ]
    }
  ]
}