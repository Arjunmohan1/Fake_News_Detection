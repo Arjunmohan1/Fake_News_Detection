{
  "nbformat": 4,
  "nbformat_minor": 0,
  "metadata": {
    "colab": {
      "name": "Data Collection.ipynb",
      "provenance": [],
      "authorship_tag": "ABX9TyPhzEZB7dSS+a1GuEZ2wqQk",
      "include_colab_link": true
    },
    "kernelspec": {
      "name": "python3",
      "display_name": "Python 3"
    }
  },
  "cells": [
    {
      "cell_type": "markdown",
      "metadata": {
        "id": "view-in-github",
        "colab_type": "text"
      },
      "source": [
        "<a href=\"https://colab.research.google.com/github/Arjunmohan1/Fake_News_Detection/blob/main/Data_Collection.ipynb\" target=\"_parent\"><img src=\"https://colab.research.google.com/assets/colab-badge.svg\" alt=\"Open In Colab\"/></a>"
      ]
    },
    {
      "cell_type": "markdown",
      "metadata": {
        "id": "9FGuj7SmUKda"
      },
      "source": [
        "**DATA COLLECTION**"
      ]
    },
    {
      "cell_type": "markdown",
      "metadata": {
        "id": "nzH9VFUrL4Zr"
      },
      "source": [
        "https://www.earthdatascience.org/courses/use-data-open-source-python/intro-to-apis/twitter-data-in-python/"
      ]
    },
    {
      "cell_type": "code",
      "metadata": {
        "id": "Whg2Q_b9Ignc"
      },
      "source": [
        "import os\n",
        "import tweepy as tw\n",
        "import pandas as pd"
      ],
      "execution_count": null,
      "outputs": []
    },
    {
      "cell_type": "code",
      "metadata": {
        "id": "TYAb7gH0Is3B"
      },
      "source": [
        "consumer_key= '#'\n",
        "consumer_secret= '#'\n",
        "access_token= '#'\n",
        "access_token_secret= '#'"
      ],
      "execution_count": null,
      "outputs": []
    },
    {
      "cell_type": "code",
      "metadata": {
        "id": "ZU6TFQ0uJHF1"
      },
      "source": [
        "auth = tw.OAuthHandler(consumer_key, consumer_secret)\n",
        "auth.set_access_token(access_token, access_token_secret)\n",
        "api = tw.API(auth, wait_on_rate_limit=True)"
      ],
      "execution_count": null,
      "outputs": []
    },
    {
      "cell_type": "code",
      "metadata": {
        "id": "Lbe5huU0JNmS"
      },
      "source": [
        "search_words = \"#covid19\"\n",
        "date_since = \"2020-01-01\""
      ],
      "execution_count": null,
      "outputs": []
    },
    {
      "cell_type": "code",
      "metadata": {
        "id": "_5zxLgN2JRqo",
        "colab": {
          "base_uri": "https://localhost:8080/",
          "height": 34
        },
        "outputId": "1eb2c3fb-8552-4e57-a0c3-a54d283e0c8e"
      },
      "source": [
        "# Collect tweets\n",
        "tweets = tw.Cursor(api.search,\n",
        "              q=search_words,\n",
        "              lang=\"en\",\n",
        "              since=date_since).items(5)\n",
        "tweets\n"
      ],
      "execution_count": null,
      "outputs": [
        {
          "output_type": "execute_result",
          "data": {
            "text/plain": [
              "<tweepy.cursor.ItemIterator at 0x7f3997789d30>"
            ]
          },
          "metadata": {
            "tags": []
          },
          "execution_count": 5
        }
      ]
    },
    {
      "cell_type": "code",
      "metadata": {
        "id": "7XihxQ0IJfwH",
        "colab": {
          "base_uri": "https://localhost:8080/",
          "height": 187
        },
        "outputId": "7d328088-240d-4889-c0de-a7dd3967e17c"
      },
      "source": [
        "# Collect tweets\n",
        "tweets = tw.Cursor(api.search,\n",
        "              q=search_words,\n",
        "              lang=\"en\",\n",
        "              since=date_since).items(5)\n",
        "\n",
        "# Iterate and print tweets\n",
        "for tweet in tweets:\n",
        "    print(tweet.text)"
      ],
      "execution_count": null,
      "outputs": [
        {
          "output_type": "stream",
          "text": [
            "@ajmunson12 Where did you obtain your professional degree?\n",
            "#WearADamnMask\n",
            "#GetTested #COVID19\n",
            "RT @AnaCabrera: PENCE: “We don’t want the guidance from the CDC to be the reason schools don’t open up.” #COVID19\n",
            "RT @DSGovernment: Today, the Delta Government announced that it will take stringent measures to ensure full compliance with prescribed prot…\n",
            "RT @baraju_SuperHit: Andhra Pradesh Government issues orders to include 15 #COVID19 procedures under Dr YSR Aarogyasri to treat suspected a…\n",
            "regardless of your age and immune status #COVID19 can  \n",
            "a) kill you \n",
            "b) make you sick for a really long time\n",
            "c) be… https://t.co/koLzVEfCVh\n"
          ],
          "name": "stdout"
        }
      ]
    },
    {
      "cell_type": "code",
      "metadata": {
        "id": "NzQWUVSgJw1x",
        "colab": {
          "base_uri": "https://localhost:8080/",
          "height": 102
        },
        "outputId": "00245526-a306-4a8a-ce1a-c40de8e42d6d"
      },
      "source": [
        "# Collect tweets\n",
        "tweets = tw.Cursor(api.search,\n",
        "                       q=search_words,\n",
        "                       lang=\"en\",\n",
        "                   since=date_since).items(5)\n",
        "\n",
        "# Collect a list of tweets\n",
        "[tweet.text for tweet in tweets]"
      ],
      "execution_count": null,
      "outputs": [
        {
          "output_type": "execute_result",
          "data": {
            "text/plain": [
              "['RT @MissionCriticMe: #COVID19 has fundamentally changed the country / city dynamic - probably for the better https://t.co/2uMFYy7kOd',\n",
              " 'RT @scrowder: Traverse City MI cancelled July 4th fireworks, the annual Cherry Festival (the bedrock of the summer economy in the county) d…',\n",
              " 'There are still countries that would accept US Citizens - just in case you were wondering where to go this fall. Gi… https://t.co/cN7s8DsF0z',\n",
              " 'RT @HcrWealth: With #COVID19 cases spiking in multiple states across the country, it might be a good idea to revisit our webinar on how to…',\n",
              " 'DeSantis: Media \"Frightening\" People About COVID-19 For Political Purposes #CoronaVirusUpdates #covid19… https://t.co/xoZ3LFTdqB']"
            ]
          },
          "metadata": {
            "tags": []
          },
          "execution_count": 6
        }
      ]
    },
    {
      "cell_type": "markdown",
      "metadata": {
        "id": "nE0rNNTgKFlP"
      },
      "source": [
        "Who is Tweeting About Covid19?"
      ]
    },
    {
      "cell_type": "code",
      "metadata": {
        "id": "UnfRF8s9KEg7",
        "colab": {
          "base_uri": "https://localhost:8080/",
          "height": 102
        },
        "outputId": "7e161df7-263d-4933-cfef-04fd75544738"
      },
      "source": [
        "tweets = tw.Cursor(api.search, \n",
        "                           q=search_words,\n",
        "                           lang=\"en\",\n",
        "                   since=date_since).items(5)\n",
        "\n",
        "users_locs = [[tweet.user.screen_name, tweet.user.location] for tweet in tweets]\n",
        "users_locs"
      ],
      "execution_count": null,
      "outputs": [
        {
          "output_type": "execute_result",
          "data": {
            "text/plain": [
              "[['markaizatt', 'Chiswick, London - New York'],\n",
              " ['RobRealMcCoy', 'Kentucky, USA'],\n",
              " ['WorldTravelWM', 'Arizona, USA'],\n",
              " ['OyenekanYinka', 'Ogun, Nigeria'],\n",
              " ['world_covid19', 'WORLDWIDE']]"
            ]
          },
          "metadata": {
            "tags": []
          },
          "execution_count": 7
        }
      ]
    },
    {
      "cell_type": "code",
      "metadata": {
        "id": "GXOECrsCLCOB",
        "colab": {
          "base_uri": "https://localhost:8080/",
          "height": 272
        },
        "outputId": "a59b68c1-10c4-4b40-d75e-29bc9976f974"
      },
      "source": [
        "tweets = tw.Cursor(api.search, \n",
        "                           q=search_words,\n",
        "                           lang=\"en\",\n",
        "                   since=date_since).items(5)\n",
        "\n",
        "sample_data = [[tweet.user.screen_name, tweet.user.location, tweet.text] for tweet in tweets]\n",
        "sample_data"
      ],
      "execution_count": null,
      "outputs": [
        {
          "output_type": "execute_result",
          "data": {
            "text/plain": [
              "[['markaizatt',\n",
              "  'Chiswick, London - New York',\n",
              "  'RT @MissionCriticMe: #COVID19 has fundamentally changed the country / city dynamic - probably for the better https://t.co/2uMFYy7kOd'],\n",
              " ['RobRealMcCoy',\n",
              "  'Kentucky, USA',\n",
              "  'RT @scrowder: Traverse City MI cancelled July 4th fireworks, the annual Cherry Festival (the bedrock of the summer economy in the county) d…'],\n",
              " ['WorldTravelWM',\n",
              "  'Arizona, USA',\n",
              "  'There are still countries that would accept US Citizens - just in case you were wondering where to go this fall. Gi… https://t.co/cN7s8DsF0z'],\n",
              " ['OyenekanYinka',\n",
              "  'Ogun, Nigeria',\n",
              "  'RT @HcrWealth: With #COVID19 cases spiking in multiple states across the country, it might be a good idea to revisit our webinar on how to…'],\n",
              " ['world_covid19',\n",
              "  'WORLDWIDE',\n",
              "  'DeSantis: Media \"Frightening\" People About COVID-19 For Political Purposes #CoronaVirusUpdates #covid19… https://t.co/xoZ3LFTdqB']]"
            ]
          },
          "metadata": {
            "tags": []
          },
          "execution_count": 8
        }
      ]
    },
    {
      "cell_type": "code",
      "metadata": {
        "id": "Oii53AoDLgbc",
        "colab": {
          "base_uri": "https://localhost:8080/",
          "height": 204
        },
        "outputId": "c7620ee4-0f6a-4a7b-e2df-8521254c39d6"
      },
      "source": [
        "tweet_text = pd.DataFrame(data=sample_data, \n",
        "                    columns=['user', \"location\", \"tweet\"])\n",
        "tweet_text"
      ],
      "execution_count": null,
      "outputs": [
        {
          "output_type": "execute_result",
          "data": {
            "text/html": [
              "<div>\n",
              "<style scoped>\n",
              "    .dataframe tbody tr th:only-of-type {\n",
              "        vertical-align: middle;\n",
              "    }\n",
              "\n",
              "    .dataframe tbody tr th {\n",
              "        vertical-align: top;\n",
              "    }\n",
              "\n",
              "    .dataframe thead th {\n",
              "        text-align: right;\n",
              "    }\n",
              "</style>\n",
              "<table border=\"1\" class=\"dataframe\">\n",
              "  <thead>\n",
              "    <tr style=\"text-align: right;\">\n",
              "      <th></th>\n",
              "      <th>user</th>\n",
              "      <th>location</th>\n",
              "      <th>tweet</th>\n",
              "    </tr>\n",
              "  </thead>\n",
              "  <tbody>\n",
              "    <tr>\n",
              "      <th>0</th>\n",
              "      <td>markaizatt</td>\n",
              "      <td>Chiswick, London - New York</td>\n",
              "      <td>RT @MissionCriticMe: #COVID19 has fundamentall...</td>\n",
              "    </tr>\n",
              "    <tr>\n",
              "      <th>1</th>\n",
              "      <td>RobRealMcCoy</td>\n",
              "      <td>Kentucky, USA</td>\n",
              "      <td>RT @scrowder: Traverse City MI cancelled July ...</td>\n",
              "    </tr>\n",
              "    <tr>\n",
              "      <th>2</th>\n",
              "      <td>WorldTravelWM</td>\n",
              "      <td>Arizona, USA</td>\n",
              "      <td>There are still countries that would accept US...</td>\n",
              "    </tr>\n",
              "    <tr>\n",
              "      <th>3</th>\n",
              "      <td>OyenekanYinka</td>\n",
              "      <td>Ogun, Nigeria</td>\n",
              "      <td>RT @HcrWealth: With #COVID19 cases spiking in ...</td>\n",
              "    </tr>\n",
              "    <tr>\n",
              "      <th>4</th>\n",
              "      <td>world_covid19</td>\n",
              "      <td>WORLDWIDE</td>\n",
              "      <td>DeSantis: Media \"Frightening\" People About COV...</td>\n",
              "    </tr>\n",
              "  </tbody>\n",
              "</table>\n",
              "</div>"
            ],
            "text/plain": [
              "            user  ...                                              tweet\n",
              "0     markaizatt  ...  RT @MissionCriticMe: #COVID19 has fundamentall...\n",
              "1   RobRealMcCoy  ...  RT @scrowder: Traverse City MI cancelled July ...\n",
              "2  WorldTravelWM  ...  There are still countries that would accept US...\n",
              "3  OyenekanYinka  ...  RT @HcrWealth: With #COVID19 cases spiking in ...\n",
              "4  world_covid19  ...  DeSantis: Media \"Frightening\" People About COV...\n",
              "\n",
              "[5 rows x 3 columns]"
            ]
          },
          "metadata": {
            "tags": []
          },
          "execution_count": 9
        }
      ]
    },
    {
      "cell_type": "code",
      "metadata": {
        "id": "uRTJg4r1MM-s"
      },
      "source": [
        "tweets = tw.Cursor(api.search, \n",
        "                           q=search_words,\n",
        "                           lang=\"en\",\n",
        "                   since=date_since).items(50)\n",
        "\n",
        "sample_data = [[tweet.user.screen_name, tweet.user.location, tweet.text] for tweet in tweets]\n",
        "\n",
        "tweet_text = pd.DataFrame(data=sample_data, \n",
        "                    columns=['user', \"location\", \"tweet\"])\n",
        "tweet_text.to_csv('covidsam.csv') #Store as csv in desired location"
      ],
      "execution_count": null,
      "outputs": []
    }
  ]
}